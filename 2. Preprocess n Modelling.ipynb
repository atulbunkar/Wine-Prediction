{
 "cells": [
  {
   "cell_type": "markdown",
   "metadata": {},
   "source": [
    "### In this Second NB , I pre-processed the features AND modelled it !"
   ]
  },
  {
   "cell_type": "code",
   "execution_count": 1,
   "metadata": {},
   "outputs": [],
   "source": [
    "import pandas as pd\n",
    "import numpy as np\n",
    "import nltk\n",
    "from sklearn.feature_extraction.text import TfidfVectorizer\n",
    "from sklearn.feature_extraction.text import CountVectorizer\n",
    "\n",
    "\n",
    "import re\n",
    "\n",
    "\n",
    "from nltk.corpus import stopwords\n",
    "import pickle\n",
    "\n",
    "from tqdm import tqdm\n",
    "import os"
   ]
  },
  {
   "cell_type": "code",
   "execution_count": 2,
   "metadata": {
    "scrolled": true
   },
   "outputs": [],
   "source": [
    "train = pd.read_csv('clean train.csv' )\n",
    "test = pd.read_csv('clean test.csv')"
   ]
  },
  {
   "cell_type": "code",
   "execution_count": 3,
   "metadata": {},
   "outputs": [
    {
     "data": {
      "text/html": [
       "<div>\n",
       "<style scoped>\n",
       "    .dataframe tbody tr th:only-of-type {\n",
       "        vertical-align: middle;\n",
       "    }\n",
       "\n",
       "    .dataframe tbody tr th {\n",
       "        vertical-align: top;\n",
       "    }\n",
       "\n",
       "    .dataframe thead th {\n",
       "        text-align: right;\n",
       "    }\n",
       "</style>\n",
       "<table border=\"1\" class=\"dataframe\">\n",
       "  <thead>\n",
       "    <tr style=\"text-align: right;\">\n",
       "      <th></th>\n",
       "      <th>user_name</th>\n",
       "      <th>country</th>\n",
       "      <th>review_title</th>\n",
       "      <th>review_description</th>\n",
       "      <th>designation</th>\n",
       "      <th>points</th>\n",
       "      <th>price</th>\n",
       "      <th>province</th>\n",
       "      <th>region_1</th>\n",
       "      <th>winery</th>\n",
       "      <th>variety</th>\n",
       "    </tr>\n",
       "  </thead>\n",
       "  <tbody>\n",
       "    <tr>\n",
       "      <th>0</th>\n",
       "      <td>wineschach</td>\n",
       "      <td>argentina</td>\n",
       "      <td>Casarena 2011 Lauren's Vineyard Malbec (Agrelo)</td>\n",
       "      <td>A heavily charred nose puts a burnt crust on t...</td>\n",
       "      <td>laurens_vineyard</td>\n",
       "      <td>89</td>\n",
       "      <td>40.0</td>\n",
       "      <td>mendoza_province</td>\n",
       "      <td>agrelo</td>\n",
       "      <td>casarena</td>\n",
       "      <td>malbec</td>\n",
       "    </tr>\n",
       "    <tr>\n",
       "      <th>1</th>\n",
       "      <td>wineschach</td>\n",
       "      <td>argentina</td>\n",
       "      <td>Casarena 2009 Estate Bottled Cabernet Sauvigno...</td>\n",
       "      <td>rubberi dens aroma murki green side leafi toma...</td>\n",
       "      <td>estate_bottled</td>\n",
       "      <td>84</td>\n",
       "      <td>17.0</td>\n",
       "      <td>mendoza_province</td>\n",
       "      <td>agrelo</td>\n",
       "      <td>casarena</td>\n",
       "      <td>cabernet_sauvignon</td>\n",
       "    </tr>\n",
       "    <tr>\n",
       "      <th>2</th>\n",
       "      <td>wineschach</td>\n",
       "      <td>argentina</td>\n",
       "      <td>El Enemigo 2013 Gran Enemigo Agrelo Single Vin...</td>\n",
       "      <td>ripe malti berri aroma blend seamlessli darker...</td>\n",
       "      <td>gran_enemigo_agrelo_single_vineyard</td>\n",
       "      <td>93</td>\n",
       "      <td>120.0</td>\n",
       "      <td>mendoza_province</td>\n",
       "      <td>agrelo</td>\n",
       "      <td>el_enemigo</td>\n",
       "      <td>cabernet_franc</td>\n",
       "    </tr>\n",
       "    <tr>\n",
       "      <th>3</th>\n",
       "      <td>wineschach</td>\n",
       "      <td>argentina</td>\n",
       "      <td>Finca Decero 2009 Remolinos Vineyard Cabernet ...</td>\n",
       "      <td>standard cherri plum aroma creat straightforwa...</td>\n",
       "      <td>remolinos_vineyard</td>\n",
       "      <td>87</td>\n",
       "      <td>22.0</td>\n",
       "      <td>mendoza_province</td>\n",
       "      <td>agrelo</td>\n",
       "      <td>finca_decero</td>\n",
       "      <td>cabernet_sauvignon</td>\n",
       "    </tr>\n",
       "    <tr>\n",
       "      <th>4</th>\n",
       "      <td>wineschach</td>\n",
       "      <td>argentina</td>\n",
       "      <td>Finca Decero 2008 Amano Remolinos Vineyard Red...</td>\n",
       "      <td>dens nose mix black fruit aroma mild herb pala...</td>\n",
       "      <td>amano_remolinos_vineyard</td>\n",
       "      <td>90</td>\n",
       "      <td>50.0</td>\n",
       "      <td>mendoza_province</td>\n",
       "      <td>agrelo</td>\n",
       "      <td>finca_decero</td>\n",
       "      <td>bordeaux_style_red_blend</td>\n",
       "    </tr>\n",
       "  </tbody>\n",
       "</table>\n",
       "</div>"
      ],
      "text/plain": [
       "    user_name    country                                       review_title  \\\n",
       "0  wineschach  argentina    Casarena 2011 Lauren's Vineyard Malbec (Agrelo)   \n",
       "1  wineschach  argentina  Casarena 2009 Estate Bottled Cabernet Sauvigno...   \n",
       "2  wineschach  argentina  El Enemigo 2013 Gran Enemigo Agrelo Single Vin...   \n",
       "3  wineschach  argentina  Finca Decero 2009 Remolinos Vineyard Cabernet ...   \n",
       "4  wineschach  argentina  Finca Decero 2008 Amano Remolinos Vineyard Red...   \n",
       "\n",
       "                                  review_description  \\\n",
       "0  A heavily charred nose puts a burnt crust on t...   \n",
       "1  rubberi dens aroma murki green side leafi toma...   \n",
       "2  ripe malti berri aroma blend seamlessli darker...   \n",
       "3  standard cherri plum aroma creat straightforwa...   \n",
       "4  dens nose mix black fruit aroma mild herb pala...   \n",
       "\n",
       "                           designation  points  price          province  \\\n",
       "0                     laurens_vineyard      89   40.0  mendoza_province   \n",
       "1                       estate_bottled      84   17.0  mendoza_province   \n",
       "2  gran_enemigo_agrelo_single_vineyard      93  120.0  mendoza_province   \n",
       "3                   remolinos_vineyard      87   22.0  mendoza_province   \n",
       "4             amano_remolinos_vineyard      90   50.0  mendoza_province   \n",
       "\n",
       "  region_1        winery                   variety  \n",
       "0   agrelo      casarena                    malbec  \n",
       "1   agrelo      casarena        cabernet_sauvignon  \n",
       "2   agrelo    el_enemigo            cabernet_franc  \n",
       "3   agrelo  finca_decero        cabernet_sauvignon  \n",
       "4   agrelo  finca_decero  bordeaux_style_red_blend  "
      ]
     },
     "execution_count": 3,
     "metadata": {},
     "output_type": "execute_result"
    }
   ],
   "source": [
    "train.head()"
   ]
  },
  {
   "cell_type": "code",
   "execution_count": 201,
   "metadata": {},
   "outputs": [
    {
     "data": {
      "text/plain": [
       "array(['user_name', 'country', 'review_title', 'review_description',\n",
       "       'designation', 'points', 'price', 'province', 'region_1', 'winery',\n",
       "       'variety'], dtype=object)"
      ]
     },
     "execution_count": 201,
     "metadata": {},
     "output_type": "execute_result"
    }
   ],
   "source": [
    "train.columns.values"
   ]
  },
  {
   "cell_type": "markdown",
   "metadata": {},
   "source": [
    "## Pre processing Categorical Features"
   ]
  },
  {
   "cell_type": "markdown",
   "metadata": {},
   "source": [
    "Removing space, '@' from  user_name , and converting to lower case"
   ]
  },
  {
   "cell_type": "code",
   "execution_count": 202,
   "metadata": {},
   "outputs": [],
   "source": [
    "train['user_name'] = train['user_name'].str.replace('-','_')\n",
    "train['user_name'] = train['user_name'].str.replace('@','')\n",
    "train['user_name'] = train['user_name'].str.lower()"
   ]
  },
  {
   "cell_type": "code",
   "execution_count": 203,
   "metadata": {},
   "outputs": [],
   "source": [
    "test['user_name'] = test['user_name'].str.replace('-','_')\n",
    "test['user_name'] = test['user_name'].str.replace('@','')\n",
    "test['user_name'] = test['user_name'].str.lower()"
   ]
  },
  {
   "cell_type": "markdown",
   "metadata": {},
   "source": [
    "For Country "
   ]
  },
  {
   "cell_type": "code",
   "execution_count": 204,
   "metadata": {},
   "outputs": [],
   "source": [
    "train['country'] = train['country'].str.lower()\n",
    "test['country'] = test['country'].str.lower()\n",
    "\n",
    "train['country'] = train['country'].str.replace(' ','_')\n",
    "test['country'] = test['country'].str.replace(' ','_')\n",
    "\n",
    "train['country'] = train['country'].str.replace('-','_')\n",
    "test['country'] = test['country'].str.replace('-','_')\n",
    "\n",
    "train['country'] = train['country'].str.replace(\"'\",\"\")\n",
    "test['country'] = test['country'].str.replace(\"'\",\"\")\n",
    "\n",
    "train['country'] = train['country'].str.replace(\"&\",\"_\")\n",
    "test['country'] = test['country'].str.replace(\"&\",\"_\")"
   ]
  },
  {
   "cell_type": "markdown",
   "metadata": {},
   "source": [
    "For Designation , doing the same"
   ]
  },
  {
   "cell_type": "code",
   "execution_count": 205,
   "metadata": {},
   "outputs": [],
   "source": [
    "train['designation'] = train['designation'].str.lower()\n",
    "train['designation'] = train['designation'].str.replace(' ','_')\n",
    "train['designation'] = train['designation'].str.replace('-','_')\n",
    "train['designation'] = train['designation'].str.replace(',','_')\n",
    "train['designation'] = train['designation'].str.replace('&','_')\n",
    "train['designation'] = train['designation'].str.replace(\"'\",\"\") #Removing single quotes!"
   ]
  },
  {
   "cell_type": "code",
   "execution_count": 206,
   "metadata": {},
   "outputs": [],
   "source": [
    "test['designation'] = test['designation'].str.lower()\n",
    "test['designation'] = test['designation'].str.replace(' ','_')\n",
    "test['designation'] = test['designation'].str.replace('-','_')\n",
    "test['designation'] = test['designation'].str.replace(',','_')\n",
    "test['designation'] = test['designation'].str.replace('&','_')\n",
    "test['designation'] = test['designation'].str.replace(\"'\",\"\") #Removing single quotes!"
   ]
  },
  {
   "cell_type": "markdown",
   "metadata": {},
   "source": [
    "For Province"
   ]
  },
  {
   "cell_type": "code",
   "execution_count": 207,
   "metadata": {},
   "outputs": [],
   "source": [
    "train['province'] = train['province'].str.lower()\n",
    "train['province'] = train['province'].str.replace(' ','_')\n",
    "train['province'] = train['province'].str.replace(\"'\" ,\"\")\n",
    "train['province'] = train['province'].str.replace('&','_')\n",
    "train['province'] = train['province'].str.replace('.','')\n",
    "train['province'] = train['province'].str.replace(',','')"
   ]
  },
  {
   "cell_type": "code",
   "execution_count": 208,
   "metadata": {},
   "outputs": [],
   "source": [
    "test['province'] = test['province'].str.lower()\n",
    "test['province'] = test['province'].str.replace(' ','_')\n",
    "test['province'] = test['province'].str.replace(\"'\" ,\"\")\n",
    "test['province'] = test['province'].str.replace('&','_')\n",
    "test['province'] = test['province'].str.replace('.','')\n",
    "test['province'] = test['province'].str.replace(',','')"
   ]
  },
  {
   "cell_type": "markdown",
   "metadata": {},
   "source": [
    "For Region 1"
   ]
  },
  {
   "cell_type": "code",
   "execution_count": 209,
   "metadata": {},
   "outputs": [],
   "source": [
    "train['region_1'] = train['region_1'].str.lower()\n",
    "train['region_1'] = train['region_1'].str.replace(' ','_')\n",
    "train['region_1'] = train['region_1'].str.replace(\"'\" ,\"\")\n",
    "train['region_1'] = train['region_1'].str.replace('&','_')\n",
    "train['region_1'] = train['region_1'].str.replace(',','_')\n",
    "train['region_1'] = train['region_1'].str.replace('.','')"
   ]
  },
  {
   "cell_type": "code",
   "execution_count": 210,
   "metadata": {},
   "outputs": [],
   "source": [
    "test['region_1'] = test['region_1'].str.lower()\n",
    "test['region_1'] = test['region_1'].str.replace(' ','_')\n",
    "test['region_1'] = test['region_1'].str.replace(\"'\" ,\"\")\n",
    "test['region_1'] = test['region_1'].str.replace('&','_')\n",
    "test['region_1'] = test['region_1'].str.replace(',','_')\n",
    "test['region_1'] = test['region_1'].str.replace('.','')"
   ]
  },
  {
   "cell_type": "markdown",
   "metadata": {},
   "source": [
    "For Winery"
   ]
  },
  {
   "cell_type": "code",
   "execution_count": 211,
   "metadata": {},
   "outputs": [],
   "source": [
    "train['winery'] = train['winery'].str.lower()\n",
    "train['winery'] = train['winery'].str.replace(' ','_')\n",
    "train['winery'] = train['winery'].str.replace(\"'\" ,\"\")\n",
    "train['winery'] = train['winery'].str.replace(',','_')\n",
    "train['winery'] = train['winery'].str.replace('.','')"
   ]
  },
  {
   "cell_type": "code",
   "execution_count": 212,
   "metadata": {},
   "outputs": [],
   "source": [
    "test['winery'] = test['winery'].str.lower()\n",
    "test['winery'] = test['winery'].str.replace(' ','_')\n",
    "test['winery'] = test['winery'].str.replace(\"'\" ,\"\")\n",
    "test['winery'] = test['winery'].str.replace(',','_')\n",
    "test['winery'] = test['winery'].str.replace('.','')"
   ]
  },
  {
   "cell_type": "markdown",
   "metadata": {},
   "source": [
    "For variety"
   ]
  },
  {
   "cell_type": "code",
   "execution_count": 213,
   "metadata": {},
   "outputs": [],
   "source": [
    "train['variety'] = train['variety'].str.lower()\n",
    "train['variety'] = train['variety'].str.replace(' ','_')\n",
    "train['variety'] = train['variety'].str.replace(\"'\" ,\"\")\n",
    "train['variety'] = train['variety'].str.replace('&','_')\n",
    "train['variety'] = train['variety'].str.replace('-','_')"
   ]
  },
  {
   "cell_type": "markdown",
   "metadata": {},
   "source": [
    "For description"
   ]
  },
  {
   "cell_type": "code",
   "execution_count": 214,
   "metadata": {},
   "outputs": [],
   "source": [
    "import re\n",
    "\n",
    "from nltk.corpus import stopwords\n",
    "from nltk.stem.porter import PorterStemmer\n",
    "import nltk"
   ]
  },
  {
   "cell_type": "code",
   "execution_count": 215,
   "metadata": {},
   "outputs": [
    {
     "data": {
      "text/plain": [
       "\"Light wood aging gives this wine a very smooth character. It's acidity and varietal character are subsumed into an almost Chardonnay richness and weight. The balance and the ripe flavors are impressive, while the final taste does bring out the pepper character of the grape.\""
      ]
     },
     "execution_count": 215,
     "metadata": {},
     "output_type": "execute_result"
    }
   ],
   "source": [
    "train['review_description'][4222]"
   ]
  },
  {
   "cell_type": "code",
   "execution_count": 216,
   "metadata": {},
   "outputs": [],
   "source": [
    "stopword_list = ['i', 'me', 'my', 'myself', 'we', 'our', 'ours', 'ourselves', 'you', \"you're\", \"you've\",\\\n",
    "            \"you'll\", \"you'd\", 'your', 'yours', 'yourself', 'yourselves', 'he', 'him', 'his', 'himself', \\\n",
    "            'she', \"she's\", 'her', 'hers', 'herself', 'it', \"it's\", 'its', 'itself', 'they', 'them', 'their',\\\n",
    "            'theirs', 'themselves', 'what', 'which', 'who', 'whom', 'this', 'that', \"that'll\", 'these', 'those', \\\n",
    "            'am', 'is', 'are', 'was', 'were', 'be', 'been', 'being', 'have', 'has', 'had', 'having', 'do', 'does', \\\n",
    "            'did', 'doing', 'a', 'an', 'the', 'and', 'but', 'if', 'or', 'because', 'as', 'until', 'while', 'of', \\\n",
    "            'at', 'by', 'for', 'with', 'about', 'against', 'between', 'into', 'through', 'during', 'before', 'after',\\\n",
    "            'above', 'below', 'to', 'from', 'up', 'down', 'in', 'out', 'on', 'off', 'over', 'under', 'again', 'further',\\\n",
    "            'then', 'once', 'here', 'there', 'when', 'where', 'why', 'how', 'all', 'any', 'both', 'each', 'few', 'more',\\\n",
    "            'most', 'other', 'some', 'such', 'only', 'own', 'same', 'so', 'than', 'too', 'very', \\\n",
    "            's', 't', 'can', 'will', 'just', 'don', \"don't\", 'should', \"should've\", 'now', 'd', 'll', 'm', 'o', 're', \\\n",
    "            've', 'y', 'ain', 'aren', \"aren't\", 'couldn', \"couldn't\", 'didn', \"didn't\", 'doesn', \"doesn't\", 'hadn',\\\n",
    "            \"hadn't\", 'hasn', \"hasn't\", 'haven', \"haven't\", 'isn', \"isn't\", 'ma', 'mightn', \"mightn't\", 'mustn',\\\n",
    "            \"mustn't\", 'needn', \"needn't\", 'shan', \"shan't\", 'shouldn', \"shouldn't\", 'wasn', \"wasn't\", 'weren', \"weren't\", \\\n",
    "            'won', \"won't\", 'wouldn', \"wouldn't\"]"
   ]
  },
  {
   "cell_type": "code",
   "execution_count": 217,
   "metadata": {},
   "outputs": [
    {
     "name": "stderr",
     "output_type": "stream",
     "text": [
      "C:\\ProgramData\\Anaconda3\\lib\\site-packages\\ipykernel_launcher.py:10: SettingWithCopyWarning: \n",
      "A value is trying to be set on a copy of a slice from a DataFrame\n",
      "\n",
      "See the caveats in the documentation: https://pandas.pydata.org/pandas-docs/stable/user_guide/indexing.html#returning-a-view-versus-a-copy\n",
      "  # Remove the CWD from sys.path while we load stuff.\n"
     ]
    }
   ],
   "source": [
    "\n",
    "ps = PorterStemmer()\n",
    "\n",
    "for i in range(1,len(train['review_description'])):\n",
    "    clean_dis = re.sub('[^a-zA-Z]',' ',train['review_description'][i])\n",
    "    clean_dis = clean_dis.lower()\n",
    "    clean_dis = clean_dis.split()\n",
    "    clean_dis = [word for word in clean_dis if not word in stopword_list]\n",
    "    clean_dis = [ps.stem(word) for word in clean_dis]\n",
    "    train['review_description'][i] = ' '.join(clean_dis)\n"
   ]
  },
  {
   "cell_type": "code",
   "execution_count": 223,
   "metadata": {
    "scrolled": true
   },
   "outputs": [
    {
     "data": {
      "text/plain": [
       "0        A heavily charred nose puts a burnt crust on t...\n",
       "1        rubberi dens aroma murki green side leafi toma...\n",
       "2        ripe malti berri aroma blend seamlessli darker...\n",
       "3        standard cherri plum aroma creat straightforwa...\n",
       "4        dens nose mix black fruit aroma mild herb pala...\n",
       "                               ...                        \n",
       "76977    wine aroma honeysuckl lemon curd flavor lemon ...\n",
       "76978    blend gamay prokup aroma tart cherri mediterra...\n",
       "76979    plum black cherri anis lead nose rich red flav...\n",
       "76980    mouthwat blend start nose fresh mint pineappl ...\n",
       "76981    balanc aroma green herb citru zest fresh vital...\n",
       "Name: review_description, Length: 76982, dtype: object"
      ]
     },
     "execution_count": 223,
     "metadata": {},
     "output_type": "execute_result"
    }
   ],
   "source": [
    "train['review_description']"
   ]
  },
  {
   "cell_type": "markdown",
   "metadata": {},
   "source": [
    "Doing same for Test"
   ]
  },
  {
   "cell_type": "code",
   "execution_count": 219,
   "metadata": {},
   "outputs": [
    {
     "name": "stderr",
     "output_type": "stream",
     "text": [
      "C:\\ProgramData\\Anaconda3\\lib\\site-packages\\ipykernel_launcher.py:9: SettingWithCopyWarning: \n",
      "A value is trying to be set on a copy of a slice from a DataFrame\n",
      "\n",
      "See the caveats in the documentation: https://pandas.pydata.org/pandas-docs/stable/user_guide/indexing.html#returning-a-view-versus-a-copy\n",
      "  if __name__ == '__main__':\n"
     ]
    }
   ],
   "source": [
    "ps = PorterStemmer()\n",
    "\n",
    "for i in range(1,len(test['review_description'])):\n",
    "    clean_disc = re.sub('[^a-zA-Z]',' ',test['review_description'][i])\n",
    "    clean_disc = clean_disc.lower()\n",
    "    clean_disc = clean_disc.split()\n",
    "    clean_disc = [word for word in clean_disc if not word in stopword_list]\n",
    "    clean_disc = [ps.stem(word) for word in clean_disc]\n",
    "    test['review_description'][i] = ' '.join(clean_disc)"
   ]
  },
  {
   "cell_type": "code",
   "execution_count": 2,
   "metadata": {},
   "outputs": [],
   "source": [
    "train = pd.read_csv('pp train.csv' )\n",
    "test = pd.read_csv('pp test.csv')"
   ]
  },
  {
   "cell_type": "markdown",
   "metadata": {},
   "source": [
    "### Pre processing Numerical Values : price "
   ]
  },
  {
   "cell_type": "code",
   "execution_count": 3,
   "metadata": {},
   "outputs": [],
   "source": [
    "import seaborn as sns"
   ]
  },
  {
   "cell_type": "code",
   "execution_count": 11,
   "metadata": {},
   "outputs": [
    {
     "data": {
      "image/png": "[encoded data removed]",
      "text/plain": [
       "<Figure size 432x288 with 1 Axes>"
      ]
     },
     "metadata": {
      "needs_background": "light"
     },
     "output_type": "display_data"
    }
   ],
   "source": [
    "sns.distplot(train['price']);"
   ]
  },
  {
   "cell_type": "markdown",
   "metadata": {},
   "source": [
    "Price is heavily skewed . One option is to Remove the high priced wines but we could be losing important info from that. or we can use log value of it."
   ]
  },
  {
   "cell_type": "code",
   "execution_count": 3,
   "metadata": {},
   "outputs": [],
   "source": [
    "log_price = np.log(train.price)\n",
    "log_price2 = np.log(test.price)"
   ]
  },
  {
   "cell_type": "code",
   "execution_count": 4,
   "metadata": {},
   "outputs": [],
   "source": [
    "train['price'] = log_price"
   ]
  },
  {
   "cell_type": "code",
   "execution_count": 5,
   "metadata": {},
   "outputs": [],
   "source": [
    "test['price'] = log_price2"
   ]
  },
  {
   "cell_type": "code",
   "execution_count": 6,
   "metadata": {
    "scrolled": true
   },
   "outputs": [
    {
     "data": {
      "text/plain": [
       "0        3.688879\n",
       "1        2.833213\n",
       "2        4.787492\n",
       "3        3.091042\n",
       "4        3.912023\n",
       "           ...   \n",
       "76977    1.791759\n",
       "76978    1.791759\n",
       "76979    3.610918\n",
       "76980    3.332205\n",
       "76981    2.484907\n",
       "Name: price, Length: 76982, dtype: float64"
      ]
     },
     "execution_count": 6,
     "metadata": {},
     "output_type": "execute_result"
    }
   ],
   "source": [
    "train['price']"
   ]
  },
  {
   "cell_type": "code",
   "execution_count": 9,
   "metadata": {},
   "outputs": [
    {
     "data": {
      "image/png": "[encoded data removed]",
      "text/plain": [
       "<Figure size 432x288 with 1 Axes>"
      ]
     },
     "metadata": {
      "needs_background": "light"
     },
     "output_type": "display_data"
    }
   ],
   "source": [
    "sns.distplot(train['price']);"
   ]
  },
  {
   "cell_type": "markdown",
   "metadata": {},
   "source": [
    "No need to Normalize Points"
   ]
  },
  {
   "cell_type": "markdown",
   "metadata": {},
   "source": [
    "## Vectorization\n"
   ]
  },
  {
   "cell_type": "code",
   "execution_count": 7,
   "metadata": {},
   "outputs": [],
   "source": [
    "X = train.drop([ 'variety' , 'review_title'] ,axis = 1)\n",
    "y = train['variety']"
   ]
  },
  {
   "cell_type": "code",
   "execution_count": 8,
   "metadata": {},
   "outputs": [],
   "source": [
    "from sklearn.preprocessing import LabelEncoder\n",
    "\n",
    "#label_encoder = LabelEncoder().fit(y) \n",
    "#y = label_encoder.transform(y)"
   ]
  },
  {
   "cell_type": "code",
   "execution_count": 39,
   "metadata": {},
   "outputs": [],
   "source": [
    "from sklearn.model_selection import train_test_split\n",
    "X_train, X_cv, y_train, y_cv = train_test_split(X, y, test_size=0.18, stratify=y) # Using train to 'train' n test on CV !"
   ]
  },
  {
   "cell_type": "markdown",
   "metadata": {},
   "source": [
    "#### X_test will be used for final predictions , while X_cv , y_cv will be used to check train accuracy "
   ]
  },
  {
   "cell_type": "code",
   "execution_count": 9,
   "metadata": {},
   "outputs": [],
   "source": [
    "X_test = test.drop(['review_title'] ,axis = 1) "
   ]
  },
  {
   "cell_type": "markdown",
   "metadata": {},
   "source": [
    "#### Vectorizing Review_description - Using TFIDF\n"
   ]
  },
  {
   "cell_type": "code",
   "execution_count": 10,
   "metadata": {},
   "outputs": [],
   "source": [
    "vec = TfidfVectorizer(min_df= 100 , max_df = 5000, ngram_range=(1,3))\n",
    "\n",
    "X_train_RD = vec.fit_transform(X_train['review_description'].values)\n",
    " \n",
    "X_cv_RD = vec.transform(X_cv['review_description'].values)\n",
    "\n",
    "X_test_RD = vec.transform(X_test['review_description'].values)\n",
    "\n"
   ]
  },
  {
   "cell_type": "markdown",
   "metadata": {},
   "source": [
    "Converting Categorical data to Response Code ( Best for tree based models)"
   ]
  },
  {
   "cell_type": "code",
   "execution_count": 11,
   "metadata": {},
   "outputs": [],
   "source": [
    "class RE:\n",
    "    final_count = dict()\n",
    "    \n",
    "    def count(self,c1 ,c2):\n",
    "        item_count = pd.crosstab(c1 , c2)\n",
    "        total_count = c1.value_counts()\n",
    "        \n",
    "        for i in c1.unique():\n",
    "            RE.final_count[i] = [item_count.loc[i][0]/total_count[i],\\\n",
    "                                 item_count.loc[i][1]/total_count[i] ]\n",
    "        \n",
    "    def transform(self, data):\n",
    "        encoded = []\n",
    "        for j in data:\n",
    "            if j in RE.final_count.keys():\n",
    "                encoded.append(RE.final_count[j])\n",
    "            else:\n",
    "                encoded.append([0.5,0.5])\n",
    "        return np.array(encoded)"
   ]
  },
  {
   "cell_type": "code",
   "execution_count": 42,
   "metadata": {},
   "outputs": [
    {
     "data": {
      "text/plain": [
       "Index(['user_name', 'country', 'review_title', 'review_description',\n",
       "       'designation', 'points', 'price', 'province', 'region_1', 'winery',\n",
       "       'variety'],\n",
       "      dtype='object')"
      ]
     },
     "execution_count": 42,
     "metadata": {},
     "output_type": "execute_result"
    }
   ],
   "source": [
    "train.columns"
   ]
  },
  {
   "cell_type": "code",
   "execution_count": 12,
   "metadata": {},
   "outputs": [],
   "source": [
    "# ENCODING USER_NAME\n",
    "\n",
    "response_code = RE()\n",
    "response_code.count(X_train['user_name'] , y_train) #For Counting from train values taking mean response !\n",
    "\n",
    "x_train_un = response_code.transform(X_train['user_name'].values)  #Applying it in train\n",
    "\n",
    "x_cv_un = response_code.transform(X_cv['user_name'].values) # Applying it on Cv , only transform is needed\n",
    "\n",
    "x_test_un = response_code.transform(X_test['user_name'].values) # Only transform is done so no data is leaked !"
   ]
  },
  {
   "cell_type": "code",
   "execution_count": 13,
   "metadata": {},
   "outputs": [],
   "source": [
    "# ENCODING COUNTRY\n",
    "\n",
    "response_code = RE()\n",
    "response_code.count(X_train['country'] , y_train) #For Counting from train values taking mean response !\n",
    "\n",
    "x_train_cnt = response_code.transform(X_train['country'].values)  #Applying it in train\n",
    "\n",
    "x_cv_cnt = response_code.transform(X_cv['country'].values) # Applying it on Cv , only transform is needed\n",
    "\n",
    "x_test_cnt = response_code.transform(X_test['country'].values) # Only transform is done so no data is leaked !"
   ]
  },
  {
   "cell_type": "code",
   "execution_count": 14,
   "metadata": {},
   "outputs": [],
   "source": [
    "# ENCODING designation\n",
    "\n",
    "response_code = RE()\n",
    "response_code.count(X_train['designation'] , y_train) #For Counting from train values taking mean response !\n",
    "\n",
    "x_train_desig = response_code.transform(X_train['designation'].values)  #Applying it in train\n",
    "\n",
    "x_cv_desig = response_code.transform(X_cv['designation'].values) # Applying it on Cv , only transform is needed\n",
    "\n",
    "x_test_desig = response_code.transform(X_test['designation'].values) # Only transform is done so no data is leaked !"
   ]
  },
  {
   "cell_type": "code",
   "execution_count": 15,
   "metadata": {},
   "outputs": [],
   "source": [
    "# ENCODING province\n",
    "\n",
    "response_code = RE()\n",
    "response_code.count(X_train['province'] , y_train) #For Counting from train values taking mean response !\n",
    "\n",
    "x_train_prov = response_code.transform(X_train['province'].values)  #Applying it in train !\n",
    "\n",
    "x_cv_prov = response_code.transform(X_cv['province'].values) # Applying it on Cv , only transform is needed !\n",
    "\n",
    "x_test_prov = response_code.transform(X_test['province'].values) # Only transform is done so no data is leaked !"
   ]
  },
  {
   "cell_type": "code",
   "execution_count": 16,
   "metadata": {},
   "outputs": [],
   "source": [
    "# ENCODING region_1\n",
    "\n",
    "response_code = RE()\n",
    "response_code.count(X_train['region_1'] , y_train) #For Counting from train values taking mean response !\n",
    "\n",
    "x_train_r1 = response_code.transform(X_train['region_1'].values)  #Applying it in train\n",
    "\n",
    "x_cv_r1 = response_code.transform(X_cv['region_1'].values) # Applying it on Cv , only transform is needed\n",
    "\n",
    "x_test_r1 = response_code.transform(X_test['region_1'].values) # Only transform is done so no data is leaked !"
   ]
  },
  {
   "cell_type": "code",
   "execution_count": 17,
   "metadata": {},
   "outputs": [],
   "source": [
    "# ENCODING winery\n",
    "\n",
    "response_code = RE()\n",
    "response_code.count(X_train['winery'] , y_train) #For Counting from train values taking mean response !\n",
    "\n",
    "x_train_wnry = response_code.transform(X_train['winery'].values)  #Applying it in train !\n",
    "\n",
    "x_cv_wnry = response_code.transform(X_cv['winery'].values) # Applying it on Cv , only transform is needed !\n",
    "\n",
    "x_test_wnry = response_code.transform(X_test['winery'].values) # Only transform is done so no data is leaked !"
   ]
  },
  {
   "cell_type": "markdown",
   "metadata": {},
   "source": [
    "Numerical Features - We have already taken log for price to get a uniform distribution"
   ]
  },
  {
   "cell_type": "code",
   "execution_count": 18,
   "metadata": {},
   "outputs": [],
   "source": [
    "\n",
    "from sklearn.preprocessing import MinMaxScaler # FOR PRICE!\n",
    "\n",
    "scaler = MinMaxScaler()\n",
    "scaler.fit(X_train['price'].values.reshape(-1,1))\n",
    "\n",
    "X_train_pr = scaler.transform(X_train['price'].values.reshape(-1,1))\n",
    "\n",
    "X_cv_pr = scaler.transform(X_cv['price'].values.reshape(-1,1))\n",
    "\n",
    "X_test_pr = scaler.transform(X_test['price'].values.reshape(-1,1))"
   ]
  },
  {
   "cell_type": "code",
   "execution_count": 19,
   "metadata": {},
   "outputs": [],
   "source": [
    "from sklearn.preprocessing import MinMaxScaler # FOR POINTS !\n",
    "\n",
    "scaler = MinMaxScaler()\n",
    "scaler.fit(X_train['points'].values.reshape(-1,1))\n",
    "\n",
    "X_train_poi = scaler.transform(X_train['points'].values.reshape(-1,1))\n",
    "\n",
    "X_cv_poi = scaler.transform(X_cv['points'].values.reshape(-1,1))\n",
    "\n",
    "X_test_poi = scaler.transform(X_test['points'].values.reshape(-1,1))"
   ]
  },
  {
   "cell_type": "markdown",
   "metadata": {},
   "source": [
    "ALL FEATURES ARE ENCODED AND READY TO MODEL !"
   ]
  },
  {
   "cell_type": "code",
   "execution_count": 20,
   "metadata": {},
   "outputs": [],
   "source": [
    "from scipy.sparse import hstack"
   ]
  },
  {
   "cell_type": "code",
   "execution_count": 21,
   "metadata": {},
   "outputs": [],
   "source": [
    "X_tr = hstack((X_train_RD,x_train_un, x_train_cnt , x_train_desig ,x_train_prov ,x_train_r1 ,x_train_wnry ,X_train_pr ,X_train_poi )).tocsr()\n",
    "\n"
   ]
  },
  {
   "cell_type": "code",
   "execution_count": 53,
   "metadata": {},
   "outputs": [],
   "source": [
    "X_cv = hstack((X_cv_RD ,x_cv_un, x_cv_cnt , x_cv_desig ,x_cv_prov ,x_cv_r1 ,x_cv_wnry ,X_cv_pr ,X_cv_poi )).tocsr()\n"
   ]
  },
  {
   "cell_type": "code",
   "execution_count": 22,
   "metadata": {},
   "outputs": [],
   "source": [
    "X_te = hstack((X_test_RD ,x_test_un, x_test_cnt , x_test_desig ,x_test_prov ,x_test_r1 ,x_test_wnry ,X_test_pr ,X_test_poi )).tocsr()\n"
   ]
  },
  {
   "cell_type": "markdown",
   "metadata": {},
   "source": [
    "##### NOTE: X_te will be used for final predictions , while X_cv will be used to check train model accuracy"
   ]
  },
  {
   "cell_type": "markdown",
   "metadata": {},
   "source": [
    "#### Feature Selection - To select k best features from the sparce matrix"
   ]
  },
  {
   "cell_type": "code",
   "execution_count": 33,
   "metadata": {},
   "outputs": [],
   "source": [
    "from sklearn.feature_selection import SelectKBest\n",
    "from sklearn.feature_selection import chi2\n",
    "\n",
    "X_tr_new = SelectKBest(chi2).fit_transform(X_tr, y_train)"
   ]
  },
  {
   "cell_type": "code",
   "execution_count": 29,
   "metadata": {},
   "outputs": [
    {
     "data": {
      "text/plain": [
       "(32800, 1661)"
      ]
     },
     "execution_count": 29,
     "metadata": {},
     "output_type": "execute_result"
    }
   ],
   "source": [
    "X_tr.shape"
   ]
  },
  {
   "cell_type": "markdown",
   "metadata": {},
   "source": [
    "### Applying Models !\n"
   ]
  },
  {
   "cell_type": "markdown",
   "metadata": {},
   "source": [
    "##### Building a dummy Model - KNN"
   ]
  },
  {
   "cell_type": "code",
   "execution_count": 107,
   "metadata": {},
   "outputs": [
    {
     "name": "stderr",
     "output_type": "stream",
     "text": [
      "/opt/conda/lib/python3.7/site-packages/sklearn/model_selection/_search.py:281: UserWarning: The total space of parameters 8 is smaller than n_iter=10. Running 8 iterations. For exhaustive searches, use GridSearchCV.\n",
      "  % (grid_size, self.n_iter, grid_size), UserWarning)\n"
     ]
    },
    {
     "data": {
      "text/plain": [
       "RandomizedSearchCV(cv=4, error_score=nan,\n",
       "                   estimator=KNeighborsClassifier(algorithm='auto',\n",
       "                                                  leaf_size=30,\n",
       "                                                  metric='minkowski',\n",
       "                                                  metric_params=None,\n",
       "                                                  n_jobs=None, n_neighbors=5,\n",
       "                                                  p=2, weights='uniform'),\n",
       "                   iid='deprecated', n_iter=10, n_jobs=-1,\n",
       "                   param_distributions={'n_neighbors': [2, 5, 8, 11],\n",
       "                                        'weights': ['uniform', 'distance']},\n",
       "                   pre_dispatch='2*n_jobs', random_state=None, refit=True,\n",
       "                   return_train_score=False, scoring=None, verbose=0)"
      ]
     },
     "execution_count": 107,
     "metadata": {},
     "output_type": "execute_result"
    }
   ],
   "source": [
    "from sklearn.tree import DecisionTreeClassifier\n",
    "from sklearn.ensemble import RandomForestClassifier\n",
    "from sklearn.svm import SVC \n",
    "from sklearn.neighbors import KNeighborsClassifier \n",
    "from sklearn.model_selection import RandomizedSearchCV\n",
    "from sklearn.metrics import f1_score\n",
    "\n",
    "\n",
    "knn = KNeighborsClassifier()\n",
    "\n",
    "n_neighbors = [2,5,8,11]\n",
    "wt =  [ 'uniform', 'distance' ]\n",
    "\n",
    "random_grid = {'n_neighbors': n_neighbors,\n",
    "               'weights': wt, }\n",
    "\n",
    "clf = RandomizedSearchCV(estimator = knn , param_distributions = random_grid , cv=4 , n_jobs = -1) \n",
    "\n",
    "clf.fit(X_tr, y_train) \n",
    "\n"
   ]
  },
  {
   "cell_type": "code",
   "execution_count": 116,
   "metadata": {},
   "outputs": [
    {
     "data": {
      "text/plain": [
       "KNeighborsClassifier(algorithm='auto', leaf_size=30, metric='minkowski',\n",
       "                     metric_params=None, n_jobs=-1, n_neighbors=5, p=2,\n",
       "                     weights='uniform')"
      ]
     },
     "execution_count": 116,
     "metadata": {},
     "output_type": "execute_result"
    }
   ],
   "source": [
    "knn = KNeighborsClassifier(algorithm='auto', leaf_size=30,\n",
    "                                                  metric='minkowski',\n",
    "                                                  metric_params=None,\n",
    "                                                  n_jobs=-1, n_neighbors=5,\n",
    "                                                  p=2, weights='uniform')\n",
    "knn.fit(X_tr, y_train)"
   ]
  },
  {
   "cell_type": "code",
   "execution_count": 117,
   "metadata": {},
   "outputs": [],
   "source": [
    "y_pred = knn.predict(X_cv)\n",
    "f1 = f1_score(y_cv , y_pred, average = 'micro')\n",
    "acc =  knn.score(X_cv ,y_cv)"
   ]
  },
  {
   "cell_type": "code",
   "execution_count": 202,
   "metadata": {},
   "outputs": [
    {
     "name": "stdout",
     "output_type": "stream",
     "text": [
      "F1 for kNN mode is :  0.521629600472348\n"
     ]
    }
   ],
   "source": [
    "print('F1 for kNN mode is : ' ,f1)"
   ]
  },
  {
   "cell_type": "markdown",
   "metadata": {},
   "source": [
    "Its a pretty weak model !"
   ]
  },
  {
   "cell_type": "markdown",
   "metadata": {},
   "source": [
    "#### Random Forest"
   ]
  },
  {
   "cell_type": "code",
   "execution_count": 167,
   "metadata": {},
   "outputs": [
    {
     "name": "stderr",
     "output_type": "stream",
     "text": [
      "/opt/conda/lib/python3.7/site-packages/sklearn/model_selection/_split.py:667: UserWarning: The least populated class in y has only 2 members, which is less than n_splits=4.\n",
      "  % (min_groups, self.n_splits)), UserWarning)\n",
      "/opt/conda/lib/python3.7/site-packages/joblib/externals/loky/process_executor.py:706: UserWarning: A worker stopped while some jobs were given to the executor. This can be caused by a too short worker timeout or by a memory leak.\n",
      "  \"timeout or by a memory leak.\", UserWarning\n"
     ]
    },
    {
     "data": {
      "text/plain": [
       "RandomizedSearchCV(cv=4, error_score=nan,\n",
       "                   estimator=RandomForestClassifier(bootstrap=True,\n",
       "                                                    ccp_alpha=0.0,\n",
       "                                                    class_weight='balanced',\n",
       "                                                    criterion='gini',\n",
       "                                                    max_depth=None,\n",
       "                                                    max_features='auto',\n",
       "                                                    max_leaf_nodes=None,\n",
       "                                                    max_samples=None,\n",
       "                                                    min_impurity_decrease=0.0,\n",
       "                                                    min_impurity_split=None,\n",
       "                                                    min_samples_leaf=1,\n",
       "                                                    min_samples_split=2,\n",
       "                                                    min_weight_fraction_leaf=0.0,\n",
       "                                                    n_estimators=100,\n",
       "                                                    n_jobs=None,\n",
       "                                                    oob_score=False,\n",
       "                                                    random_state=None,\n",
       "                                                    verbose=0,\n",
       "                                                    warm_start=False),\n",
       "                   iid='deprecated', n_iter=10, n_jobs=-1,\n",
       "                   param_distributions={'max_depth': [10, 20, 50, 60, 70, 80],\n",
       "                                        'n_estimators': [100, 200, 500, 700,\n",
       "                                                         1000]},\n",
       "                   pre_dispatch='2*n_jobs', random_state=None, refit=True,\n",
       "                   return_train_score=False, scoring=None, verbose=0)"
      ]
     },
     "execution_count": 167,
     "metadata": {},
     "output_type": "execute_result"
    }
   ],
   "source": [
    "# Parameter Tuning !\n",
    "from sklearn.model_selection import RandomizedSearchCV\n",
    "\n",
    "bootstrap =  [True, False]\n",
    "max_depth = [ 10, 20 ,50,60 , 70, 80] \n",
    "n_est = [100,200,500,700,1000 ]\n",
    "\n",
    "rf = RandomForestClassifier(class_weight = 'balanced')\n",
    "\n",
    "random_grid = {'n_estimators': n_est,\n",
    "               'max_depth': max_depth,\n",
    "               }\n",
    "\n",
    "clf = RandomizedSearchCV(estimator = rf , param_distributions = random_grid , cv=4 , n_iter = 10 , n_jobs = -1) \n",
    "\n",
    "clf.fit(X_tr , y_train)"
   ]
  },
  {
   "cell_type": "code",
   "execution_count": 168,
   "metadata": {},
   "outputs": [
    {
     "data": {
      "text/plain": [
       "RandomForestClassifier(bootstrap=True, ccp_alpha=0.0, class_weight='balanced',\n",
       "                       criterion='gini', max_depth=80, max_features='auto',\n",
       "                       max_leaf_nodes=None, max_samples=None,\n",
       "                       min_impurity_decrease=0.0, min_impurity_split=None,\n",
       "                       min_samples_leaf=1, min_samples_split=2,\n",
       "                       min_weight_fraction_leaf=0.0, n_estimators=1000,\n",
       "                       n_jobs=None, oob_score=False, random_state=None,\n",
       "                       verbose=0, warm_start=False)"
      ]
     },
     "execution_count": 168,
     "metadata": {},
     "output_type": "execute_result"
    }
   ],
   "source": [
    "bestRFparams = clf.best_estimator_\n",
    "bestRFparams"
   ]
  },
  {
   "cell_type": "code",
   "execution_count": 28,
   "metadata": {},
   "outputs": [
    {
     "data": {
      "text/plain": [
       "RandomForestClassifier(bootstrap=True, ccp_alpha=0.0, class_weight='balanced',\n",
       "                       criterion='gini', max_depth=120, max_features='auto',\n",
       "                       max_leaf_nodes=None, max_samples=None,\n",
       "                       min_impurity_decrease=0.0, min_impurity_split=None,\n",
       "                       min_samples_leaf=1, min_samples_split=2,\n",
       "                       min_weight_fraction_leaf=0.0, n_estimators=2000,\n",
       "                       n_jobs=-1, oob_score=True, random_state=None, verbose=0,\n",
       "                       warm_start=False)"
      ]
     },
     "execution_count": 28,
     "metadata": {},
     "output_type": "execute_result"
    }
   ],
   "source": [
    "from sklearn.ensemble import RandomForestClassifier\n",
    "rf = RandomForestClassifier(bootstrap=True, ccp_alpha=0.0, class_weight='balanced',\n",
    "                       criterion='gini',max_depth=120 ,max_features='auto',\n",
    "                       max_leaf_nodes=None, max_samples=None,\n",
    "                       min_impurity_decrease=0.0, min_impurity_split=None,\n",
    "                       min_samples_leaf=1, min_samples_split=2,\n",
    "                       min_weight_fraction_leaf=0.0, n_estimators=2000,\n",
    "                       n_jobs= -1 , oob_score=True ,random_state=None,\n",
    "                       verbose=0, warm_start=False)\n",
    "\n",
    "rf.fit(X_tr, y_train)"
   ]
  },
  {
   "cell_type": "code",
   "execution_count": 29,
   "metadata": {},
   "outputs": [],
   "source": [
    "from sklearn.metrics import f1_score\n",
    "y_pred = rf.predict(X_cv)\n",
    "f1_ = f1_score(y_cv , y_pred, average = 'micro')\n",
    "acc =  rf.score(X_cv ,y_cv)"
   ]
  },
  {
   "cell_type": "code",
   "execution_count": 30,
   "metadata": {},
   "outputs": [
    {
     "name": "stdout",
     "output_type": "stream",
     "text": [
      "micro weighted f1 score for RF tree is : 0.7919444444444445\n",
      "Accuracy score for RF tree is : 0.7919444444444445\n"
     ]
    }
   ],
   "source": [
    "print( 'micro weighted f1 score for RF tree is :' , f1_)\n",
    "print( 'Accuracy score for RF tree is :' , acc)"
   ]
  },
  {
   "cell_type": "markdown",
   "metadata": {},
   "source": [
    "### CV Score is 0.79 : A better Model, Lets see other options"
   ]
  },
  {
   "cell_type": "code",
   "execution_count": 203,
   "metadata": {},
   "outputs": [],
   "source": [
    "import pickle\n",
    "filename = 'rf2_model.sav'\n",
    "pickle.dump(rf, open(filename, 'wb'))"
   ]
  },
  {
   "cell_type": "markdown",
   "metadata": {},
   "source": [
    "## XGBOOST"
   ]
  },
  {
   "cell_type": "code",
   "execution_count": 56,
   "metadata": {},
   "outputs": [
    {
     "data": {
      "text/plain": [
       "XGBClassifier(base_score=0.5, booster=None, colsample_bylevel=1,\n",
       "              colsample_bynode=1, colsample_bytree=1, gamma=0, gpu_id=-1,\n",
       "              importance_type='gain', interaction_constraints=None,\n",
       "              learning_rate=0.300000012, max_delta_step=0, max_depth=100,\n",
       "              min_child_weight=1, missing=nan, monotone_constraints=None,\n",
       "              n_estimators=1000, n_jobs=0, num_parallel_tree=1,\n",
       "              objective='multi:softprob', random_state=0, reg_alpha=0,\n",
       "              reg_lambda=1, scale_pos_weight=None, subsample=1,\n",
       "              tree_method=None, validate_parameters=False, verbosity=None)"
      ]
     },
     "execution_count": 56,
     "metadata": {},
     "output_type": "execute_result"
    }
   ],
   "source": [
    "from xgboost import XGBClassifier\n",
    "\n",
    "p = dict()\n",
    "p['num_class'] = 28 \n",
    "p['objective'] = 'multi:softmax'\n",
    "\n",
    "xgb = XGBClassifier( max_depth= 100 , n_estimators = 1000 )\n",
    "\n",
    "xgb.fit(X_tr, y_train)"
   ]
  },
  {
   "cell_type": "code",
   "execution_count": 57,
   "metadata": {},
   "outputs": [],
   "source": [
    "from sklearn.metrics import f1_score\n",
    "y_pred = xgb.predict(X_cv)\n",
    "\n",
    "f1_ = f1_score(y_cv , y_pred, average = 'micro')\n"
   ]
  },
  {
   "cell_type": "code",
   "execution_count": 58,
   "metadata": {},
   "outputs": [
    {
     "name": "stdout",
     "output_type": "stream",
     "text": [
      "micro weighted f1 score for XGB  is : 0.7478888888888889\n"
     ]
    }
   ],
   "source": [
    "print( 'micro weighted f1 score for XGB  is :' , f1_)"
   ]
  },
  {
   "cell_type": "markdown",
   "metadata": {},
   "source": [
    "#### CV Accuracy for XGB is : 0.747"
   ]
  },
  {
   "cell_type": "markdown",
   "metadata": {},
   "source": [
    "### SUMMARY OF MODELS"
   ]
  },
  {
   "cell_type": "code",
   "execution_count": 60,
   "metadata": {},
   "outputs": [
    {
     "name": "stdout",
     "output_type": "stream",
     "text": [
      "+-------------------------+----------------------------+\n",
      "| ________Model__________ | _________CV Score_________ |\n",
      "+-------------------------+----------------------------+\n",
      "|           KNN           |            0.53            |\n",
      "|            RF           |            0.79            |\n",
      "|           XGB           |           0.747            |\n",
      "+-------------------------+----------------------------+\n"
     ]
    }
   ],
   "source": [
    "from prettytable import PrettyTable\n",
    "\n",
    "t = PrettyTable( [ '________Model__________' ,'_________CV Score_________'] )\n",
    "\n",
    "t.add_row( ['KNN' , '0.53'] )\n",
    "\n",
    "t.add_row([ 'RF', '0.79'])\n",
    "\n",
    "t.add_row([ 'XGB', '0.747'])\n",
    "\n",
    "print(t)"
   ]
  },
  {
   "cell_type": "markdown",
   "metadata": {},
   "source": [
    "#### The Random Forest Model work best for Our MultiClass Classification Problem !"
   ]
  },
  {
   "cell_type": "markdown",
   "metadata": {},
   "source": [
    "## Predicting wine for test data !"
   ]
  },
  {
   "cell_type": "code",
   "execution_count": 62,
   "metadata": {},
   "outputs": [],
   "source": [
    "X_train = train.drop([ 'variety' , 'review_title'] ,axis = 1) \n",
    "\n",
    "#I Ran all Vectorization again from top to get 'X_tr'\n",
    "\n",
    "y_train = train['variety']"
   ]
  },
  {
   "cell_type": "code",
   "execution_count": 24,
   "metadata": {},
   "outputs": [],
   "source": [
    "X_test = X_te"
   ]
  },
  {
   "cell_type": "code",
   "execution_count": 27,
   "metadata": {},
   "outputs": [
    {
     "data": {
      "text/plain": [
       "RandomForestClassifier(bootstrap=True, ccp_alpha=0.0, class_weight='balanced',\n",
       "                       criterion='gini', max_depth=120, max_features='auto',\n",
       "                       max_leaf_nodes=None, max_samples=None,\n",
       "                       min_impurity_decrease=0.0, min_impurity_split=None,\n",
       "                       min_samples_leaf=1, min_samples_split=2,\n",
       "                       min_weight_fraction_leaf=0.0, n_estimators=2000,\n",
       "                       n_jobs=-1, oob_score=True, random_state=None, verbose=0,\n",
       "                       warm_start=False)"
      ]
     },
     "execution_count": 27,
     "metadata": {},
     "output_type": "execute_result"
    }
   ],
   "source": [
    "from sklearn.ensemble import RandomForestClassifier\n",
    "\n",
    "rf = RandomForestClassifier(bootstrap=True, ccp_alpha=0.0, class_weight='balanced',\n",
    "                       criterion='gini',max_depth=120 ,max_features='auto',\n",
    "                       max_leaf_nodes=None, max_samples=None,\n",
    "                       min_impurity_decrease=0.0, min_impurity_split=None,\n",
    "                       min_samples_leaf=1, min_samples_split=2,\n",
    "                       min_weight_fraction_leaf=0.0, n_estimators=2000,\n",
    "                       n_jobs= -1 , oob_score=True ,random_state=None,\n",
    "                       verbose=0, warm_start=False)\n",
    "\n",
    "rf.fit(X_tr, y_train) # I got X_tr after running all vectorization again for full X_train DATA !"
   ]
  },
  {
   "cell_type": "code",
   "execution_count": 30,
   "metadata": {},
   "outputs": [],
   "source": [
    "y_pred = rf.predict(X_test)"
   ]
  },
  {
   "cell_type": "code",
   "execution_count": 36,
   "metadata": {},
   "outputs": [],
   "source": [
    "test.drop(['review_title'] , axis= 1 , inplace = True)"
   ]
  },
  {
   "cell_type": "code",
   "execution_count": 39,
   "metadata": {},
   "outputs": [],
   "source": [
    "test['variety_pred'] = y_pred"
   ]
  },
  {
   "cell_type": "code",
   "execution_count": 42,
   "metadata": {},
   "outputs": [],
   "source": [
    "test.to_csv('Test with preds.csv' , index = False) # SAVING THE TEST FILE WITH PREDICTIONS"
   ]
  },
  {
   "cell_type": "code",
   "execution_count": 46,
   "metadata": {},
   "outputs": [],
   "source": [
    "X_train['variety'] = y_train"
   ]
  },
  {
   "cell_type": "code",
   "execution_count": 48,
   "metadata": {},
   "outputs": [],
   "source": [
    "X_train.to_csv('Final_train.csv' , index = False )"
   ]
  },
  {
   "cell_type": "markdown",
   "metadata": {},
   "source": [
    "### END OF ASSIGNMENT"
   ]
  }
 ],
 "metadata": {
  "kernelspec": {
   "display_name": "Python 3",
   "language": "python",
   "name": "python3"
  },
  "language_info": {
   "codemirror_mode": {
    "name": "ipython",
    "version": 3
   },
   "file_extension": ".py",
   "mimetype": "text/x-python",
   "name": "python",
   "nbconvert_exporter": "python",
   "pygments_lexer": "ipython3",
   "version": "3.7.6"
  }
 },
 "nbformat": 4,
 "nbformat_minor": 4
}
